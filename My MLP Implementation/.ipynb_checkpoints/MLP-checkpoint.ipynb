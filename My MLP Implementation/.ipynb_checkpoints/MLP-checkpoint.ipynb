{
 "cells": [
  {
   "cell_type": "markdown",
   "metadata": {},
   "source": [
    "# My own BackPropagation Implementation"
   ]
  },
  {
   "cell_type": "code",
   "execution_count": 1,
   "metadata": {
    "collapsed": false
   },
   "outputs": [],
   "source": [
    "from math import sqrt\n",
    "import numpy as np\n",
    "import matplotlib.pyplot as plt\n",
    "import random\n",
    "\n",
    "#let's define some basic functions. Even though I am not using anything besides sigmoid function\n",
    "#, I have defined the softmax and the derivative \n",
    "def sigmoid(x):\n",
    "    return 1 / (1 + np.exp(-x))\n",
    "def sigmoid_derivative(x):\n",
    "    return sigmoid(x)(1-sigmoid(x))\n",
    "\n",
    "\n",
    "def softmax(x):\n",
    "    return np.exp(x)/sum(np.exp(x))\n",
    "\n",
    "def derivative(f):\n",
    "    if f == sigmoid:\n",
    "        return sigmoid_derivative"
   ]
  },
  {
   "cell_type": "markdown",
   "metadata": {},
   "source": [
    "# My backpropagation for MLP training"
   ]
  },
  {
   "cell_type": "code",
   "execution_count": 43,
   "metadata": {
    "collapsed": false
   },
   "outputs": [],
   "source": [
    "from math import sqrt\n",
    "import numpy as np\n",
    "import random\n",
    "\n",
    "def sigmoid(x):\n",
    "    return 1 / (1 + np.exp(-x))\n",
    "\n",
    "def sigmoid_derivative(x):\n",
    "    return sigmoid(x)(1-sigmoid(x))\n",
    "\n",
    "\n",
    "def softmax(x):\n",
    "    return np.exp(x)/sum(np.exp(x))\n",
    "\n",
    "def derivative(f):\n",
    "    if f == sigmoid:\n",
    "        return sigmoid_derivative\n",
    "\n",
    "class bornaMLP:\n",
    "    def __init__(self,layers_sizes, activations , batch_size=10, eta=0.05, epocs=1000, update='online', minibatch_percentage=0.1, verbose=True):\n",
    "        self.minibatch_percentage = minibatch_percentage\n",
    "        self.update=update# other values batch, mini-batch\n",
    "        self.errors=[]\n",
    "        self.eta=eta\n",
    "        self.epocs=epocs\n",
    "        self.activations=activations\n",
    "        self.num_layers = len(layers_sizes)\n",
    "        self.layers_sizes = layers_sizes\n",
    "        self.verbose= verbose\n",
    "        self.W , self.B= self.generate_random_weights()\n",
    "        \n",
    "    def generate_random_weights(self):\n",
    "        W={}\n",
    "        B={}\n",
    "        for i in range(len(self.layers_sizes)-1):\n",
    "            upper = 4*sqrt(6)/sqrt(self.layers_sizes[i]+self.layers_sizes[i+1])\n",
    "            #weight also includes biases\n",
    "            B[str(i)+\"-\"+str(i+1)]=np.zeros(self.layers_sizes[i+1])\n",
    "            W[str(i)+\"-\"+str(i+1)] = np.random.uniform(-upper,upper, self.layers_sizes[i:i+2])#np.ones( self.layers_sizes[i:i+2])\n",
    "        return W,B\n",
    "    \n",
    "    def feed_forward(self,x): #feed forward\n",
    "        x = np.array(x)\n",
    "        ffr=[x]#Feed Forward Result\n",
    "        for i in range(self.num_layers-1):\n",
    "            w = self.W[str(i)+\"-\"+str(i+1)]\n",
    "            b= self.B[str(i)+\"-\"+str(i+1)]\n",
    "            y = self.activations[i](np.dot(x,w) +b ) #clculate the output of the layer\n",
    "            x=y\n",
    "            ffr.append(y)\n",
    "        return ffr\n",
    "    \n",
    "    def _calc_error(self,X,Y):\n",
    "        prediction = self.feed_forward(X)\n",
    "        return .5*np.sum((Y-prediction[-1])**2)/(X.shape[0])\n",
    "        \n",
    "    def fit(self,X,Y):\n",
    "        self.W , self.B= self.generate_random_weights()\n",
    "        self.errors.append(self._calc_error(X,Y))\n",
    "        X=np.array(X)\n",
    "        Y=np.array(Y)\n",
    "        for i in range(self.epocs):\n",
    "            if not self.verbose:\n",
    "                if i<10:\n",
    "                    print (\"epoc->\",i+1)\n",
    "                elif i<100 and i%10==0:\n",
    "                    print (\"epoc->\",i)\n",
    "                elif i<1000 and i%100==0:\n",
    "                    print (\"epoc->\",i)\n",
    "                elif i<10000 and i%1000==0:\n",
    "                    print (\"epoc->\",i)\n",
    "                elif i<100000 and i%10000==0:\n",
    "                    print (\"epoc->\",i)\n",
    "            \n",
    "            if self.update == 'online':\n",
    "                for j in range(X.shape[0]):\n",
    "                    delta_W, delta_B = self.calc_weight_updates(X[j,:],Y[j])\n",
    "                    self.update_weights(delta_W, delta_B)\n",
    "            elif self.update == 'batch' or 'stochastic-mini-batch':\n",
    "                if self.update == 'batch':\n",
    "                    this_batch=X\n",
    "                    this_batch_Y=Y\n",
    "                elif self.update == 'stochastic-mini-batch': # let's create a mini batch\n",
    "                    minibatch_indices = random.sample(range(X.shape[0]), int(X.shape[0]*self.minibatch_percentage))\n",
    "                    this_batch=  X[minibatch_indices,:]\n",
    "                    this_batch_Y=Y[minibatch_indices,:]\n",
    "                    \n",
    "                sum_delta_W={}\n",
    "                sum_delta_B={}\n",
    "                for j in range(this_batch.shape[0]):\n",
    "                    delta_W, delta_B = self.calc_weight_updates(this_batch[j,:],this_batch_Y[j,:])\n",
    "                    for k in delta_W.keys():#adding all the deltas at different layers to our sum\n",
    "                        if k in sum_delta_W:\n",
    "                            sum_delta_W[k] += delta_W[k]\n",
    "                            sum_delta_B[k] += delta_B[k]\n",
    "                        else:\n",
    "                            sum_delta_W[k] = delta_W[k]\n",
    "                            sum_delta_B[k] = delta_B[k]\n",
    "\t\t\t\t\t\n",
    "                self.update_weights(sum_delta_W, sum_delta_B)\n",
    "                \n",
    "            self.errors.append(self._calc_error(X,Y))\n",
    "                \n",
    "    def update_weights(self,delta_W,delta_B):\n",
    "        for i in range(self.num_layers-1): #going through layers\n",
    "            index=str(i)+\"-\"+str(i+1)\n",
    "            self.W[index] -= delta_W[index]\n",
    "            self.B[index] -= delta_B[index]\n",
    "\n",
    "    def predict(self,X):\n",
    "        nn_output = self.feed_forward(X)\n",
    "        labels = np.argmax(nn_output[-1],axis=1)\n",
    "        return labels\n",
    "        \n",
    "\n",
    "    def calc_weight_updates(self,inputx,target):\n",
    "        ffr = self.feed_forward(inputx)\n",
    "        # https://mattmazur.com/2015/03/17/a-step-by-step-backpropagation-example/        \n",
    "        #step1: output layer\n",
    "        delta_W={}\n",
    "        delta_B={}\n",
    "        \n",
    "        this_output = ffr[-1]\n",
    "        previous_output = ffr[-2]\n",
    "\n",
    "        this_delta = ((this_output - target)) * (this_output * (1-this_output))\n",
    "        weight_chagnge = np.outer(previous_output , this_delta)\n",
    "        \n",
    "        delta_W[str(self.num_layers-2)+\"-\"+str(self.num_layers-1)] = self.eta * weight_chagnge\n",
    "        delta_B[str(self.num_layers-2)+\"-\"+str(self.num_layers-1)] = self.eta *this_delta\n",
    "        \n",
    "        #step2: Hidden Layers\n",
    "        for i in reversed(range(1,self.num_layers-1)): # Going through all the layers backwards\n",
    "            next_layer_delta = this_delta\n",
    "            \n",
    "            hl_output = ffr[i]\n",
    "            hl_input = ffr[i-1]\n",
    "            hl_out_weights = self.W[str(i)+\"-\"+str(i+1)]\n",
    "            \n",
    "            this_delta =np.dot(hl_out_weights, next_layer_delta) * hl_output *(1-hl_output)\n",
    "            weight_chagnge = np.outer(hl_input,this_delta)\n",
    "            delta_W[str(i-1)+\"-\"+str(i)] = self.eta* weight_chagnge     \n",
    "            delta_B[str(i-1)+\"-\"+str(i)] = self.eta* this_delta\n",
    "            \n",
    "        return delta_W, delta_B"
   ]
  },
  {
   "cell_type": "markdown",
   "metadata": {},
   "source": [
    "# Tesing our MLP for small problems\n"
   ]
  },
  {
   "cell_type": "code",
   "execution_count": 44,
   "metadata": {
    "collapsed": false
   },
   "outputs": [
    {
     "data": {
      "image/png": "[encoded data removed]",
      "text/plain": [
       "<matplotlib.figure.Figure at 0xa146470>"
      ]
     },
     "metadata": {},
     "output_type": "display_data"
    },
    {
     "data": {
      "image/png": "[encoded data removed]",
      "text/plain": [
       "<matplotlib.figure.Figure at 0x9fefac8>"
      ]
     },
     "metadata": {},
     "output_type": "display_data"
    }
   ],
   "source": [
    "\n",
    "#XOR\n",
    "mlp1= bornaMLP([3,5,5,2],activations=10*[sigmoid],epocs=1000,eta=0.1)\n",
    "X=[[0,0,0],[1,0,1],[0,1,1],[1,1,1]]\n",
    "Y=[[0,1],[1,1],[1,1],[0,1]]\n",
    "mlp1.fit(X,Y)\n",
    "\n",
    "plt.plot(range(len(mlp1.errors)), mlp1.errors,'r')\n",
    "plt.xlabel(\"Epocs\")\n",
    "plt.ylabel(\"XOR Training Error\")\n",
    "plt.show()\n",
    "\n",
    "# learning X from X\n",
    "mlp2= bornaMLP([3,10,3],activations=10*[sigmoid],epocs=500,eta=0.1)\n",
    "X=[[0,0,0],[0,0,1],[0,1,0],[0,1,1],[1,0,0],[1,0,1],[1,1,0],[1,1,1]]\n",
    "Y=X\n",
    "mlp2.fit(X,Y)\n",
    "\n",
    "\n",
    "plt.plot(range(len(mlp2.errors)), mlp2.errors)\n",
    "plt.xlabel(\"Epocs\")\n",
    "plt.ylabel(\"Learning X from X Training Error\")\n",
    "plt.show()\n",
    "\n"
   ]
  },
  {
   "cell_type": "code",
   "execution_count": null,
   "metadata": {
    "collapsed": true
   },
   "outputs": [],
   "source": []
  }
 ],
 "metadata": {
  "anaconda-cloud": {},
  "kernelspec": {
   "display_name": "Python [default]",
   "language": "python",
   "name": "python3"
  },
  "language_info": {
   "codemirror_mode": {
    "name": "ipython",
    "version": 3
   },
   "file_extension": ".py",
   "mimetype": "text/x-python",
   "name": "python",
   "nbconvert_exporter": "python",
   "pygments_lexer": "ipython3",
   "version": "3.5.2"
  }
 },
 "nbformat": 4,
 "nbformat_minor": 1
}
